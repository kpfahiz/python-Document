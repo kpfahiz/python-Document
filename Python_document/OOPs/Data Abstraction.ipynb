{
 "cells": [
  {
   "cell_type": "markdown",
   "metadata": {},
   "source": [
    "# Data Abstraction\n",
    "\n",
    "Data Abstraction in Python can be achieved through creating abstract classes and inheriting them later. \n",
    "\n",
    "\n",
    "#### Abstract Classes\n",
    "The classes that cannot be instantiated. This means that we cannot create objects of an abstract class and these are only meant to be inherited. Then an object of the derived class is used to access the features of the base class. These are specifically defined to lay a foundation of other classes that exhibit common behavior or characteristics."
   ]
  },
  {
   "cell_type": "code",
   "execution_count": 1,
   "metadata": {},
   "outputs": [],
   "source": [
    "from abc import ABC, abstractmethod\n",
    "class MyClass(ABC):\n",
    " @abstractmethod\n",
    " def mymethod(self):\n",
    "  #empty body\n",
    "  pass\n"
   ]
  },
  {
   "cell_type": "code",
   "execution_count": 2,
   "metadata": {},
   "outputs": [],
   "source": [
    "from abc import ABC,abstractmethod\n",
    " \n",
    "class Animal(ABC):\n",
    " \n",
    "    #concrete method\n",
    "    def sleep(self):\n",
    "        print(\"I am going to sleep in a while\")\n",
    " \n",
    "    @abstractmethod\n",
    "    def sound(self):\n",
    "        print(\"This function is for defining the sound by any animal\")\n",
    "        pass\n",
    " \n",
    "class Snake(Animal):\n",
    "    def sound(self):\n",
    "        print(\"I can hiss\")\n",
    " \n",
    "class Dog(Animal):\n",
    "    def sound(self):\n",
    "        print(\"I can bark\")\n",
    " \n",
    "class Lion(Animal):\n",
    "    def sound(self):\n",
    "        print(\"I can roar\")\n",
    "       \n",
    "class Cat(Animal):\n",
    "    def sound(self):\n",
    "        print(\"I can meow\")\n"
   ]
  },
  {
   "cell_type": "code",
   "execution_count": 3,
   "metadata": {},
   "outputs": [
    {
     "name": "stdout",
     "output_type": "stream",
     "text": [
      "I am going to sleep in a while\n",
      "I can meow\n",
      "I can hiss\n"
     ]
    }
   ],
   "source": [
    "c = Cat()\n",
    "c.sleep()\n",
    "c.sound()\n",
    " \n",
    "c = Snake()\n",
    "c.sound()\n"
   ]
  }
 ],
 "metadata": {
  "kernelspec": {
   "display_name": "Python 3.8.0 64-bit",
   "language": "python",
   "name": "python3"
  },
  "language_info": {
   "codemirror_mode": {
    "name": "ipython",
    "version": 3
   },
   "file_extension": ".py",
   "mimetype": "text/x-python",
   "name": "python",
   "nbconvert_exporter": "python",
   "pygments_lexer": "ipython3",
   "version": "3.8.0"
  },
  "orig_nbformat": 4,
  "vscode": {
   "interpreter": {
    "hash": "e60a60041b8523e805374e1e4038ad859f07fe236f7715ec79d1a9374ccab63e"
   }
  }
 },
 "nbformat": 4,
 "nbformat_minor": 2
}
