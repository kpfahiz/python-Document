{
 "cells": [
  {
   "cell_type": "markdown",
   "metadata": {},
   "source": [
    "# Inheritance\n",
    "A class which inherits the properties of another class is called Inheritance.\n",
    "\n",
    "#### Base class or Parent class\n",
    "The class from which properties are inherited is called parent class/base class\n",
    "\n",
    "#### subclass or child class\n",
    "The class which inherits the properties is called child class/subclass.\n",
    "\n",
    "#### Three types of Inheritance:\n",
    "\n",
    "- Single Inheritance\n",
    "- Multilevel Inheritance\n",
    "- Multiple Inheritance\n",
    "### 1) Single Inheritance\n",
    "one class will inherit the properties of one class only.\n",
    "\n",
    "![image info](./img/single-inheritance.png)"
   ]
  },
  {
   "cell_type": "code",
   "execution_count": 2,
   "metadata": {},
   "outputs": [
    {
     "name": "stdout",
     "output_type": "stream",
     "text": [
      "Name     :  Nokia 1100\n",
      "Year     :  1998\n",
      "Company  :  Nokia India\n",
      "Website  :  www.nokia-india.com\n",
      "Address : Cherry Road,Near Bus Stand ,Salem\n"
     ]
    }
   ],
   "source": [
    "class Nokia:\n",
    "    company = \"Nokia India\"\n",
    "    webiste = \"www.nokia-india.com\"\n",
    " \n",
    "    def contact_details(self):\n",
    "        print(\"Address : Cherry Road,Near Bus Stand ,Salem\")\n",
    " \n",
    " \n",
    "class Nokia1100(Nokia):\n",
    "    def __init__(self):\n",
    "        self.name = \"Nokia 1100\"\n",
    "        self.year = 1998\n",
    " \n",
    "    def product_details(self):\n",
    "        print(\"Name     : \", self.name)\n",
    "        print(\"Year     : \", self.year)\n",
    "        print(\"Company  : \", self.company)\n",
    "        print(\"Website  : \", self.webiste)\n",
    "\n",
    "mobile = Nokia1100()\n",
    "mobile.product_details()\n",
    "mobile.contact_details()"
   ]
  },
  {
   "cell_type": "markdown",
   "metadata": {},
   "source": [
    "### 2)Multilevel Inheritance\n",
    "one or more class act as a base class.\n",
    "\n",
    "![image info](./img/multilevel.png)"
   ]
  },
  {
   "cell_type": "code",
   "execution_count": 3,
   "metadata": {},
   "outputs": [
    {
     "name": "stdout",
     "output_type": "stream",
     "text": [
      "dog barking\n",
      "Animal Speaking\n",
      "Eating bread...\n"
     ]
    }
   ],
   "source": [
    "class Animal:  \n",
    "    def speak(self):  \n",
    "        print(\"Animal Speaking\")  \n",
    "#The child class Dog inherits the base class Animal  \n",
    "class Dog(Animal):  \n",
    "    def bark(self):  \n",
    "        print(\"dog barking\")  \n",
    "#The child class Dogchild inherits another child class Dog  \n",
    "class DogChild(Dog):  \n",
    "    def eat(self):  \n",
    "        print(\"Eating bread...\")  \n",
    "d = DogChild()  \n",
    "d.bark()  \n",
    "d.speak()  \n",
    "d.eat()  "
   ]
  },
  {
   "cell_type": "markdown",
   "metadata": {},
   "source": [
    "### 3)Multiple Inheritance\n",
    "The class which inherits the properties of multiple classes is called Multiple Inheritance.\n",
    "\n",
    "![image info](./img/multiple.png)"
   ]
  },
  {
   "cell_type": "code",
   "execution_count": 5,
   "metadata": {},
   "outputs": [
    {
     "name": "stdout",
     "output_type": "stream",
     "text": [
      "Employee Name: Khush\n",
      "Salary: 10000\n",
      "Designation: Test Engineer\n"
     ]
    }
   ],
   "source": [
    "class Employees(): \n",
    " \n",
    "   def Name(self): \n",
    "       print (\"Employee Name: Khush\")\n",
    " \n",
    "class salary():\n",
    "   def Salary(self):\n",
    "       print (\"Salary: 10000\")\n",
    " \n",
    "class Designation(Employees, salary):\n",
    "   def desig(self):\n",
    "       print (\"Designation: Test Engineer\")\n",
    " \n",
    "call = Designation()\n",
    "call.Name()\n",
    "call.Salary()\n",
    "call.desig()"
   ]
  }
 ],
 "metadata": {
  "kernelspec": {
   "display_name": "Python 3.8.0 64-bit",
   "language": "python",
   "name": "python3"
  },
  "language_info": {
   "codemirror_mode": {
    "name": "ipython",
    "version": 3
   },
   "file_extension": ".py",
   "mimetype": "text/x-python",
   "name": "python",
   "nbconvert_exporter": "python",
   "pygments_lexer": "ipython3",
   "version": "3.8.0"
  },
  "orig_nbformat": 4,
  "vscode": {
   "interpreter": {
    "hash": "e60a60041b8523e805374e1e4038ad859f07fe236f7715ec79d1a9374ccab63e"
   }
  }
 },
 "nbformat": 4,
 "nbformat_minor": 2
}
