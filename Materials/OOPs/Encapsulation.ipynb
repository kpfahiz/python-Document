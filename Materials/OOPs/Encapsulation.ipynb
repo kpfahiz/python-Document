{
 "cells": [
  {
   "cell_type": "markdown",
   "metadata": {},
   "source": [
    "# Encapsulation\n",
    "\n",
    "Bundling similar data members and functions inside a class also helps in data hiding. Encapsulation also ensures that objects are self-sufficient functioning pieces and can work independently\n",
    "\n",
    "Encapsulation in Python is achieved through the access modifiers. These access modifiers ensure that access conditions are not breached and thus provide a great user experience in terms of security.\n",
    "\n",
    "#### Access Modifiers\n",
    "Sometimes there might be a need to restrict or limit access to certain variables or functions while programming. That is where access modifiers come into the picture.\n",
    "- Public Members\n",
    "- Private Members\n",
    "- Protected Members\n",
    "\n",
    "| Access Modifiers  | Access from own class  | Accessible from Derived class   | Accessible from object   |\n",
    "|---|---|---|---|\n",
    "| Private Members   | Yes  | No  | No  |\n",
    "| Protected Members | Yes  |  Yes |  No |\n",
    "| Public Members   | Yes | Yes | Yes |\n",
    "\n",
    "### 1) Public Members\n",
    "The public modifier allows variables and functions to be accessible from anywhere within the class and from any part of the program. All member variables have the access modifier as public by default.\n"
   ]
  },
  {
   "cell_type": "code",
   "execution_count": 1,
   "metadata": {},
   "outputs": [
    {
     "name": "stdout",
     "output_type": "stream",
     "text": [
      "Name:  Jason\n",
      "Age:  35\n"
     ]
    }
   ],
   "source": [
    "# illustrating public members & public access modifier \n",
    "class pub_mod:\n",
    "    # constructor\n",
    "    def __init__(self, name, age):\n",
    "        self.name = name;\n",
    "        self.age = age;\n",
    " \n",
    "    def Age(self): \n",
    "        # accessing public data member \n",
    "        print(\"Age: \", self.age)\n",
    "# creating object \n",
    "obj = pub_mod(\"Jason\", 35);\n",
    "# accessing public data member \n",
    "print(\"Name: \", obj.name)  \n",
    "# calling public member function of the class \n",
    "obj.Age()"
   ]
  },
  {
   "cell_type": "markdown",
   "metadata": {},
   "source": [
    "### 2) Private Members\n",
    "\n",
    "The private access modifier allows member methods and variables to be accessed only within the class. To specify a private access modifier for a member, we make use of the double underscore __."
   ]
  },
  {
   "cell_type": "code",
   "execution_count": 2,
   "metadata": {},
   "outputs": [
    {
     "name": "stdout",
     "output_type": "stream",
     "text": [
      "5\n",
      "3\n"
     ]
    },
    {
     "ename": "AttributeError",
     "evalue": "'Rectangle' object has no attribute 'length'",
     "output_type": "error",
     "traceback": [
      "\u001b[1;31m---------------------------------------------------------------------------\u001b[0m",
      "\u001b[1;31mAttributeError\u001b[0m                            Traceback (most recent call last)",
      "\u001b[1;32md:\\Practicing\\Python\\New folder\\Python_document\\OOPs\\Encapsulation.ipynb Cell 4\u001b[0m in \u001b[0;36m<module>\u001b[1;34m\u001b[0m\n\u001b[0;32m     <a href='vscode-notebook-cell:/d%3A/Practicing/Python/New%20folder/Python_document/OOPs/Encapsulation.ipynb#W3sZmlsZQ%3D%3D?line=12'>13</a>\u001b[0m rect \u001b[39m=\u001b[39m Rectangle() \u001b[39m#object created \u001b[39;00m\n\u001b[0;32m     <a href='vscode-notebook-cell:/d%3A/Practicing/Python/New%20folder/Python_document/OOPs/Encapsulation.ipynb#W3sZmlsZQ%3D%3D?line=13'>14</a>\u001b[0m \u001b[39m#printing values of the private variable outside the class \u001b[39;00m\n\u001b[1;32m---> <a href='vscode-notebook-cell:/d%3A/Practicing/Python/New%20folder/Python_document/OOPs/Encapsulation.ipynb#W3sZmlsZQ%3D%3D?line=14'>15</a>\u001b[0m \u001b[39mprint\u001b[39m(rect\u001b[39m.\u001b[39;49mlength)\n\u001b[0;32m     <a href='vscode-notebook-cell:/d%3A/Practicing/Python/New%20folder/Python_document/OOPs/Encapsulation.ipynb#W3sZmlsZQ%3D%3D?line=15'>16</a>\u001b[0m \u001b[39mprint\u001b[39m(rect\u001b[39m.\u001b[39mbreadth)\n",
      "\u001b[1;31mAttributeError\u001b[0m: 'Rectangle' object has no attribute 'length'"
     ]
    }
   ],
   "source": [
    "# illustrating private members & private access modifier \n",
    "class Rectangle:\n",
    "  __length = 0 #private variable\n",
    "  __breadth = 0#private variable\n",
    "  def __init__(self): \n",
    "    #constructor\n",
    "    self.__length = 5\n",
    "    self.__breadth = 3\n",
    "    #printing values of the private variable within the class\n",
    "    print(self.__length)\n",
    "    print(self.__breadth)\n",
    " \n",
    "rect = Rectangle() #object created \n",
    "#printing values of the private variable outside the class \n",
    "print(rect.length)\n",
    "print(rect.breadth)\n"
   ]
  },
  {
   "cell_type": "markdown",
   "metadata": {},
   "source": [
    "### 3) Protected Members\n",
    "sets protected members apart from private members is that they allow the members to be accessed within the class and allow them to be accessed by the sub-classes involved. In Python, we demonstrate a protected member by prefixing with an underscore _ before its name."
   ]
  },
  {
   "cell_type": "code",
   "execution_count": 3,
   "metadata": {},
   "outputs": [
    {
     "name": "stdout",
     "output_type": "stream",
     "text": [
      "Jason\n",
      "35\n",
      "Developer\n"
     ]
    },
    {
     "ename": "AttributeError",
     "evalue": "'pro_mod' object has no attribute 'name'",
     "output_type": "error",
     "traceback": [
      "\u001b[1;31m---------------------------------------------------------------------------\u001b[0m",
      "\u001b[1;31mAttributeError\u001b[0m                            Traceback (most recent call last)",
      "\u001b[1;32md:\\Practicing\\Python\\New folder\\Python_document\\OOPs\\Encapsulation.ipynb Cell 6\u001b[0m in \u001b[0;36m<module>\u001b[1;34m\u001b[0m\n\u001b[0;32m     <a href='vscode-notebook-cell:/d%3A/Practicing/Python/New%20folder/Python_document/OOPs/Encapsulation.ipynb#W5sZmlsZQ%3D%3D?line=12'>13</a>\u001b[0m obj \u001b[39m=\u001b[39m pro_mod()\n\u001b[0;32m     <a href='vscode-notebook-cell:/d%3A/Practicing/Python/New%20folder/Python_document/OOPs/Encapsulation.ipynb#W5sZmlsZQ%3D%3D?line=13'>14</a>\u001b[0m \u001b[39m# direct access of protected member\u001b[39;00m\n\u001b[1;32m---> <a href='vscode-notebook-cell:/d%3A/Practicing/Python/New%20folder/Python_document/OOPs/Encapsulation.ipynb#W5sZmlsZQ%3D%3D?line=14'>15</a>\u001b[0m \u001b[39mprint\u001b[39m(\u001b[39m\"\u001b[39m\u001b[39mName:\u001b[39m\u001b[39m\"\u001b[39m,obj\u001b[39m.\u001b[39;49mname)\n\u001b[0;32m     <a href='vscode-notebook-cell:/d%3A/Practicing/Python/New%20folder/Python_document/OOPs/Encapsulation.ipynb#W5sZmlsZQ%3D%3D?line=15'>16</a>\u001b[0m \u001b[39mprint\u001b[39m(\u001b[39m\"\u001b[39m\u001b[39mAge:\u001b[39m\u001b[39m\"\u001b[39m,obj\u001b[39m.\u001b[39mage)\n",
      "\u001b[1;31mAttributeError\u001b[0m: 'pro_mod' object has no attribute 'name'"
     ]
    }
   ],
   "source": [
    "# illustrating protected members & protected access modifier \n",
    "class details:\n",
    "    _name=\"Jason\"\n",
    "    _age=35\n",
    "    _job=\"Developer\"\n",
    "class pro_mod(details):\n",
    "    def __init__(self):\n",
    "        print(self._name)\n",
    "        print(self._age)\n",
    "        print(self._job)\n",
    " \n",
    "# creating object of the class \n",
    "obj = pro_mod()\n",
    "# direct access of protected member\n",
    "print(\"Name:\",obj.name)\n",
    "print(\"Age:\",obj.age)\n"
   ]
  }
 ],
 "metadata": {
  "kernelspec": {
   "display_name": "Python 3.8.0 64-bit",
   "language": "python",
   "name": "python3"
  },
  "language_info": {
   "codemirror_mode": {
    "name": "ipython",
    "version": 3
   },
   "file_extension": ".py",
   "mimetype": "text/x-python",
   "name": "python",
   "nbconvert_exporter": "python",
   "pygments_lexer": "ipython3",
   "version": "3.8.0"
  },
  "orig_nbformat": 4,
  "vscode": {
   "interpreter": {
    "hash": "e60a60041b8523e805374e1e4038ad859f07fe236f7715ec79d1a9374ccab63e"
   }
  }
 },
 "nbformat": 4,
 "nbformat_minor": 2
}
